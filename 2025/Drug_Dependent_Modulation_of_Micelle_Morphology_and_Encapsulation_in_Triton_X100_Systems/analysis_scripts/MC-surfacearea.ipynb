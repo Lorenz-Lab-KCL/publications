{
 "cells": [
  {
   "cell_type": "code",
   "execution_count": 2,
   "id": "4b377ed5",
   "metadata": {},
   "outputs": [
    {
     "name": "stdout",
     "output_type": "stream",
     "text": [
      "Wrapping trajectory...\n",
      "Calculating micelle volume and surface area...\n",
      "Calculating the volume of the selected structure\n"
     ]
    },
    {
     "data": {
      "application/json": {
       "ascii": false,
       "bar_format": "\u001b[37m{percentage:3.0f}%|{bar:30}\u001b[37m|[Estimated time remaining: {remaining}]\u001b[0m",
       "colour": null,
       "elapsed": 0.005024909973144531,
       "initial": 0,
       "n": 0,
       "ncols": null,
       "nrows": 24,
       "postfix": null,
       "prefix": "",
       "rate": null,
       "total": 300,
       "unit": "it",
       "unit_divisor": 1000,
       "unit_scale": false
      },
      "application/vnd.jupyter.widget-view+json": {
       "model_id": "522760e0ca6d4af09d158845201c1c8a",
       "version_major": 2,
       "version_minor": 0
      },
      "text/plain": [
       "\u001b[37m  0%|                              \u001b[37m|[Estimated time remaining: ?]\u001b[0m"
      ]
     },
     "metadata": {},
     "output_type": "display_data"
    },
    {
     "name": "stdout",
     "output_type": "stream",
     "text": [
      "Execution time for 300 frames:  25.263343651997275\n",
      "\n",
      "--- Micelle Surface Area Analysis (700 ns to 1000 ns) ---\n",
      "Average Surface Area: 10154.61 Å²\n",
      "Standard Deviation of Surface Area: 289.56 Å²\n"
     ]
    }
   ],
   "source": [
    "import matplotlib.pyplot as plt\n",
    "from PUCHIK import Interface\n",
    "import numpy as np\n",
    "\n",
    "# Define file paths\n",
    "trj = \"project3/asp_trx/merged_trajectory.xtc\"\n",
    "top = \"project3/asp_trx/asp900ns.tpr\"\n",
    "\n",
    "# Initialize PUCHIK Interface\n",
    "m = Interface(trj, top)\n",
    "\n",
    "# Select the relevant atoms\n",
    "m.select_atoms('all')  # Consider all atoms in the system\n",
    "m.select_structure('resname TRITO and (name C19 C20 C21 C22 C23 C24)')  # TRITO head atoms\n",
    "\n",
    "# Calculate volume and surface area for the specified frames\n",
    "print(\"Calculating micelle volume and surface area...\")\n",
    "volumes, areas = m.calculate_volume(area=True, start=700, end=1000)  # No skipping frames\n",
    "\n",
    "# Calculate average and standard deviation of the surface area\n",
    "average_area = np.mean(areas)\n",
    "std_area = np.std(areas)\n",
    "\n",
    "# Print the results\n",
    "print(\"\\n--- Micelle Surface Area Analysis (700 ns to 1000 ns) ---\")\n",
    "print(f\"Average Surface Area: {average_area:.2f} Å²\")\n",
    "print(f\"Standard Deviation of Surface Area: {std_area:.2f} Å²\")\n"
   ]
  },
  {
   "cell_type": "code",
   "execution_count": 4,
   "id": "a8c40286",
   "metadata": {},
   "outputs": [
    {
     "name": "stdout",
     "output_type": "stream",
     "text": [
      "Wrapping trajectory...\n",
      "Calculating micelle volume and surface area...\n",
      "Calculating the volume of the selected structure\n"
     ]
    },
    {
     "data": {
      "application/json": {
       "ascii": false,
       "bar_format": "\u001b[37m{percentage:3.0f}%|{bar:30}\u001b[37m|[Estimated time remaining: {remaining}]\u001b[0m",
       "colour": null,
       "elapsed": 0.1074209213256836,
       "initial": 0,
       "n": 0,
       "ncols": null,
       "nrows": 24,
       "postfix": null,
       "prefix": "",
       "rate": null,
       "total": 300,
       "unit": "it",
       "unit_divisor": 1000,
       "unit_scale": false
      },
      "application/vnd.jupyter.widget-view+json": {
       "model_id": "bc46f1f7092c4826aab590a149fe840b",
       "version_major": 2,
       "version_minor": 0
      },
      "text/plain": [
       "\u001b[37m  0%|                              \u001b[37m|[Estimated time remaining: ?]\u001b[0m"
      ]
     },
     "metadata": {},
     "output_type": "display_data"
    },
    {
     "name": "stdout",
     "output_type": "stream",
     "text": [
      "Execution time for 300 frames:  35.23905631600064\n",
      "\n",
      "--- Micelle Surface Area Analysis (700 ns to 1000 ns) ---\n",
      "Average Surface Area: 10088.40 Å²\n",
      "Standard Deviation of Surface Area: 184.92 Å²\n"
     ]
    }
   ],
   "source": [
    "import matplotlib.pyplot as plt\n",
    "from PUCHIK import Interface\n",
    "import numpy as np\n",
    "\n",
    "# Define file paths\n",
    "trj = 'project3/fel_trx/merged_fel.xtc'\n",
    "top = 'project3/fel_trx/fel900ns.tpr'\n",
    "\n",
    "# Initialize PUCHIK Interface\n",
    "m = Interface(trj, top)\n",
    "\n",
    "# Select the relevant atoms\n",
    "m.select_atoms('all')  # Consider all atoms in the system\n",
    "m.select_structure('resname TRITO and (name C19 C20 C21 C22 C23 C24)')  # TRITO head atoms\n",
    "\n",
    "# Calculate volume and surface area for the specified frames\n",
    "print(\"Calculating micelle volume and surface area...\")\n",
    "volumes, areas = m.calculate_volume(area=True, start=700, end=1000)  # No skipping frames\n",
    "\n",
    "# Calculate average and standard deviation of the surface area\n",
    "average_area = np.mean(areas)\n",
    "std_area = np.std(areas)\n",
    "\n",
    "# Print the results\n",
    "print(\"\\n--- Micelle Surface Area Analysis (700 ns to 1000 ns) ---\")\n",
    "print(f\"Average Surface Area: {average_area:.2f} Å²\")\n",
    "print(f\"Standard Deviation of Surface Area: {std_area:.2f} Å²\")\n"
   ]
  },
  {
   "cell_type": "code",
   "execution_count": null,
   "id": "7ee9431e",
   "metadata": {},
   "outputs": [],
   "source": []
  }
 ],
 "metadata": {
  "kernelspec": {
   "display_name": "Python 3 (ipykernel)",
   "language": "python",
   "name": "python3"
  },
  "language_info": {
   "codemirror_mode": {
    "name": "ipython",
    "version": 3
   },
   "file_extension": ".py",
   "mimetype": "text/x-python",
   "name": "python",
   "nbconvert_exporter": "python",
   "pygments_lexer": "ipython3",
   "version": "3.10.15"
  }
 },
 "nbformat": 4,
 "nbformat_minor": 5
}
