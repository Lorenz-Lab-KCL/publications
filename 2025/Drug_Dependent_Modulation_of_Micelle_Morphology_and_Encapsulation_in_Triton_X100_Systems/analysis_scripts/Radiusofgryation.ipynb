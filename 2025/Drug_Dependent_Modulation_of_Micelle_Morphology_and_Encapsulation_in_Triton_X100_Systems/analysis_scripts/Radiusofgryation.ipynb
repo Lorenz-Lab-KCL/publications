{
 "cells": [
  {
   "cell_type": "code",
   "execution_count": 8,
   "id": "66ca9af3",
   "metadata": {},
   "outputs": [
    {
     "name": "stdout",
     "output_type": "stream",
     "text": [
      "Processed frame 102000 (1020.0 ns)\n",
      "\n",
      "Average Rg: 30.88 ± 1.02 Å\n",
      "Processed 102001 frames in 726.7 seconds\n"
     ]
    }
   ],
   "source": [
    "import MDAnalysis as mda\n",
    "import numpy as np\n",
    "import time\n",
    "\n",
    "# Load trajectory and topology\n",
    "u = mda.Universe(\"project3/asp_trx/asp900ns.tpr\", \"project3/asp_trx/merged_trajectory.xtc\")\n",
    "\n",
    "# Select atoms (modify as needed)\n",
    "ag = u.select_atoms('resname TRITO')\n",
    "\n",
    "# Setup frame skipping (adjust stride based on your timestep)\n",
    " # 100 frames = 10ns if each frame is 100ps\n",
    "rgs = []\n",
    "\n",
    "# Start timing\n",
    "start = time.time()\n",
    "\n",
    "# Main processing loop\n",
    "for ts in u.trajectory[::]:\n",
    "    rgs.append(ag.radius_of_gyration())\n",
    "    print(f\"Processed frame {ts.frame} ({ts.time/1000:.1f} ns)\", end='\\r')\n",
    "\n",
    "# Calculate statistics\n",
    "avg_rg = np.mean(rgs)\n",
    "std_rg = np.std(rgs)\n",
    "\n",
    "# Print results\n",
    "print(f\"\\n\\nAverage Rg: {avg_rg:.2f} ± {std_rg:.2f} Å\")\n",
    "print(f\"Processed {len(rgs)} frames in {time.time()-start:.1f} seconds\")"
   ]
  },
  {
   "cell_type": "code",
   "execution_count": 9,
   "id": "346d51b6",
   "metadata": {},
   "outputs": [
    {
     "name": "stdout",
     "output_type": "stream",
     "text": [
      "Processed frame 102000 (1020.0 ns)\n",
      "\n",
      "Average Rg: 36.14 ± 3.77 Å\n",
      "Processed 102001 frames in 725.3 seconds\n"
     ]
    }
   ],
   "source": [
    "import MDAnalysis as mda\n",
    "import numpy as np\n",
    "import time\n",
    "\n",
    "# Load trajectory and topology\n",
    "u = mda.Universe(\"project3/aten_trx/aten900ns.tpr\", \"project3/aten_trx/merged_aten.xtc\")\n",
    "\n",
    "# Select atoms (modify as needed)\n",
    "ag = u.select_atoms('resname TRITO')\n",
    "\n",
    "# Setup frame skipping (adjust stride based on your timestep)\n",
    " # 100 frames = 10ns if each frame is 100ps\n",
    "rgs = []\n",
    "\n",
    "# Start timing36.14\n",
    "start = time.time()\n",
    "\n",
    "# Main processing loop\n",
    "for ts in u.trajectory[::]:\n",
    "    rgs.append(ag.radius_of_gyration())\n",
    "    print(f\"Processed frame {ts.frame} ({ts.time/1000:.1f} ns)\", end='\\r')\n",
    "\n",
    "# Calculate statistics\n",
    "avg_rg = np.mean(rgs)\n",
    "std_rg = np.std(rgs)\n",
    "\n",
    "# Print results\n",
    "print(f\"\\n\\nAverage Rg: {avg_rg:.2f} ± {std_rg:.2f} Å\")\n",
    "print(f\"Processed {len(rgs)} frames in {time.time()-start:.1f} seconds\")"
   ]
  },
  {
   "cell_type": "code",
   "execution_count": 10,
   "id": "b80cebbb",
   "metadata": {},
   "outputs": [
    {
     "name": "stdout",
     "output_type": "stream",
     "text": [
      "Processed frame 92698 (1020.0 ns)\n",
      "\n",
      "Average Rg: 32.06 ± 0.86 Å\n",
      "Processed 92699 frames in 547.0 seconds\n"
     ]
    }
   ],
   "source": [
    "import MDAnalysis as mda\n",
    "import numpy as np\n",
    "import time\n",
    "\n",
    "# Load trajectory and topology\n",
    "u = mda.Universe(\"project3/fel_trx/fel900ns.tpr\", \"project3/fel_trx/merged_fel.xtc\")\n",
    "\n",
    "# Select atoms (modify as needed)\n",
    "ag = u.select_atoms('resname TRITO')\n",
    "\n",
    "# Setup frame skipping (adjust stride based on your timestep)\n",
    " # 100 frames = 10ns if each frame is 100ps\n",
    "rgs = []\n",
    "\n",
    "# Start timing\n",
    "start = time.time()\n",
    "\n",
    "# Main processing loop\n",
    "for ts in u.trajectory[::]:\n",
    "    rgs.append(ag.radius_of_gyration())\n",
    "    print(f\"Processed frame {ts.frame} ({ts.time/1000:.1f} ns)\", end='\\r')\n",
    "\n",
    "# Calculate statistics\n",
    "avg_rg = np.mean(rgs)\n",
    "std_rg = np.std(rgs)\n",
    "\n",
    "# Print results\n",
    "print(f\"\\n\\nAverage Rg: {avg_rg:.2f} ± {std_rg:.2f} Å\")\n",
    "print(f\"Processed {len(rgs)} frames in {time.time()-start:.1f} seconds\")"
   ]
  },
  {
   "cell_type": "code",
   "execution_count": null,
   "id": "b9801725",
   "metadata": {},
   "outputs": [],
   "source": []
  }
 ],
 "metadata": {
  "kernelspec": {
   "display_name": "Python 3 (ipykernel)",
   "language": "python",
   "name": "python3"
  },
  "language_info": {
   "codemirror_mode": {
    "name": "ipython",
    "version": 3
   },
   "file_extension": ".py",
   "mimetype": "text/x-python",
   "name": "python",
   "nbconvert_exporter": "python",
   "pygments_lexer": "ipython3",
   "version": "3.10.15"
  }
 },
 "nbformat": 4,
 "nbformat_minor": 5
}
