{
 "cells": [
  {
   "cell_type": "code",
   "execution_count": 1,
   "id": "9e9e5387",
   "metadata": {},
   "outputs": [
    {
     "name": "stderr",
     "output_type": "stream",
     "text": [
      "/home/melissa/miniconda3/envs/mdaenv/lib/python3.10/site-packages/Bio/Application/__init__.py:39: BiopythonDeprecationWarning: The Bio.Application modules and modules relying on it have been deprecated.\n",
      "\n",
      "Due to the on going maintenance burden of keeping command line application\n",
      "wrappers up to date, we have decided to deprecate and eventually remove these\n",
      "modules.\n",
      "\n",
      "We instead now recommend building your command line and invoking it directly\n",
      "with the subprocess module.\n",
      "  warnings.warn(\n"
     ]
    },
    {
     "name": "stdout",
     "output_type": "stream",
     "text": [
      "Wrapping trajectory...\n",
      "Calculating micelle volume between 700 ns and 1000 ns...\n",
      "Calculating the volume of the selected structure\n"
     ]
    },
    {
     "data": {
      "application/json": {
       "ascii": false,
       "bar_format": "\u001b[37m{percentage:3.0f}%|{bar:30}\u001b[37m|[Estimated time remaining: {remaining}]\u001b[0m",
       "colour": null,
       "elapsed": 0.00719141960144043,
       "initial": 0,
       "n": 0,
       "ncols": null,
       "nrows": 24,
       "postfix": null,
       "prefix": "",
       "rate": null,
       "total": 300,
       "unit": "it",
       "unit_divisor": 1000,
       "unit_scale": false
      },
      "application/vnd.jupyter.widget-view+json": {
       "model_id": "830e50be6ad1429a82a1e0474cc3b3ca",
       "version_major": 2,
       "version_minor": 0
      },
      "text/plain": [
       "\u001b[37m  0%|                              \u001b[37m|[Estimated time remaining: ?]\u001b[0m"
      ]
     },
     "metadata": {},
     "output_type": "display_data"
    },
    {
     "name": "stdout",
     "output_type": "stream",
     "text": [
      "Execution time for 300 frames:  24.789626264995604\n",
      "\n",
      "--- Micelle Volume Analysis (700 ns to 1000 ns) ---\n",
      "Average Volume: 80341.43 Å³\n",
      "Standard Deviation of Volume: 3320.62 Å³\n"
     ]
    }
   ],
   "source": [
    "from PUCHIK import Interface\n",
    "import numpy as np\n",
    "\n",
    "# Define file paths\n",
    "trj = \"project3/asp_trx/merged_trajectory.xtc\"\n",
    "top = \"project3/asp_trx/asp900ns.tpr\"\n",
    "\n",
    "# Initialize PUCHIK Interface\n",
    "m = Interface(trj, top)\n",
    "\n",
    "# Select the relevant atoms\n",
    "m.select_atoms('all')  # Consider all atoms in the system\n",
    "m.select_structure('resname TRITO and (name C19 C20 C21 C22 C23 C24)')  # TRITO head atoms\n",
    "\n",
    "# Calculate volume for the specified frames between 700 ns and 1000 ns\n",
    "start_frame = 700\n",
    "end_frame = 1000\n",
    "\n",
    "print(\"Calculating micelle volume between 700 ns and 1000 ns...\")\n",
    "volumes = m.calculate_volume(start=start_frame, end=end_frame)  # No skipping\n",
    "\n",
    "# Calculate average and standard deviation of the volumes\n",
    "average_volume = np.mean(volumes)\n",
    "std_volume = np.std(volumes)\n",
    "\n",
    "# Print the results\n",
    "print(\"\\n--- Micelle Volume Analysis (700 ns to 1000 ns) ---\")\n",
    "print(f\"Average Volume: {average_volume:.2f} Å³\")\n",
    "print(f\"Standard Deviation of Volume: {std_volume:.2f} Å³\")\n"
   ]
  },
  {
   "cell_type": "code",
   "execution_count": 2,
   "id": "2323a97f",
   "metadata": {},
   "outputs": [
    {
     "name": "stdout",
     "output_type": "stream",
     "text": [
      "Wrapping trajectory...\n",
      "Calculating micelle volume between 700 ns and 1000 ns...\n",
      "Calculating the volume of the selected structure\n"
     ]
    },
    {
     "data": {
      "application/json": {
       "ascii": false,
       "bar_format": "\u001b[37m{percentage:3.0f}%|{bar:30}\u001b[37m|[Estimated time remaining: {remaining}]\u001b[0m",
       "colour": null,
       "elapsed": 0.004552125930786133,
       "initial": 0,
       "n": 0,
       "ncols": null,
       "nrows": 24,
       "postfix": null,
       "prefix": "",
       "rate": null,
       "total": 300,
       "unit": "it",
       "unit_divisor": 1000,
       "unit_scale": false
      },
      "application/vnd.jupyter.widget-view+json": {
       "model_id": "00d9ef56a80f44eaa6103d8939d8d4d5",
       "version_major": 2,
       "version_minor": 0
      },
      "text/plain": [
       "\u001b[37m  0%|                              \u001b[37m|[Estimated time remaining: ?]\u001b[0m"
      ]
     },
     "metadata": {},
     "output_type": "display_data"
    },
    {
     "name": "stdout",
     "output_type": "stream",
     "text": [
      "Execution time for 300 frames:  28.098154875995533\n",
      "\n",
      "--- Micelle Volume Analysis (700 ns to 1000 ns) ---\n",
      "Average Volume: 80693.96 Å³\n",
      "Standard Deviation of Volume: 1519.82 Å³\n"
     ]
    }
   ],
   "source": [
    "from PUCHIK import Interface\n",
    "import numpy as np\n",
    "\n",
    "# Define file paths\n",
    "trj = 'project3/aten_trx/merged_aten.xtc'\n",
    "top = 'project3/aten_trx/aten900ns.tpr'\n",
    "\n",
    "# Initialize PUCHIK Interface\n",
    "m = Interface(trj, top)\n",
    "\n",
    "# Select the relevant atoms\n",
    "m.select_atoms('all')  # Consider all atoms in the system\n",
    "m.select_structure('resname TRITO and (name C19 C20 C21 C22 C23 C24)')  # TRITO head atoms\n",
    "\n",
    "# Calculate volume for the specified frames between 700 ns and 1000 ns\n",
    "start_frame = 700\n",
    "end_frame = 1000\n",
    "\n",
    "print(\"Calculating micelle volume between 700 ns and 1000 ns...\")\n",
    "volumes = m.calculate_volume(start=start_frame, end=end_frame)  # No skipping\n",
    "\n",
    "# Calculate average and standard deviation of the volumes\n",
    "average_volume = np.mean(volumes)\n",
    "std_volume = np.std(volumes)\n",
    "\n",
    "# Print the results\n",
    "print(\"\\n--- Micelle Volume Analysis (700 ns to 1000 ns) ---\")\n",
    "print(f\"Average Volume: {average_volume:.2f} Å³\")\n",
    "print(f\"Standard Deviation of Volume: {std_volume:.2f} Å³\")\n"
   ]
  },
  {
   "cell_type": "code",
   "execution_count": 3,
   "id": "c55d285a",
   "metadata": {},
   "outputs": [
    {
     "name": "stdout",
     "output_type": "stream",
     "text": [
      "Wrapping trajectory...\n",
      "Calculating micelle volume between 700 ns and 1000 ns...\n",
      "Calculating the volume of the selected structure\n"
     ]
    },
    {
     "data": {
      "application/json": {
       "ascii": false,
       "bar_format": "\u001b[37m{percentage:3.0f}%|{bar:30}\u001b[37m|[Estimated time remaining: {remaining}]\u001b[0m",
       "colour": null,
       "elapsed": 0.007457733154296875,
       "initial": 0,
       "n": 0,
       "ncols": null,
       "nrows": 24,
       "postfix": null,
       "prefix": "",
       "rate": null,
       "total": 300,
       "unit": "it",
       "unit_divisor": 1000,
       "unit_scale": false
      },
      "application/vnd.jupyter.widget-view+json": {
       "model_id": "93c2cb752c4044b8b2bcc08e027144e1",
       "version_major": 2,
       "version_minor": 0
      },
      "text/plain": [
       "\u001b[37m  0%|                              \u001b[37m|[Estimated time remaining: ?]\u001b[0m"
      ]
     },
     "metadata": {},
     "output_type": "display_data"
    },
    {
     "name": "stdout",
     "output_type": "stream",
     "text": [
      "Execution time for 300 frames:  33.59845833700092\n",
      "\n",
      "--- Micelle Volume Analysis (700 ns to 1000 ns) ---\n",
      "Average Volume: 78545.36 Å³\n",
      "Standard Deviation of Volume: 2955.06 Å³\n"
     ]
    }
   ],
   "source": [
    "from PUCHIK import Interface\n",
    "import numpy as np\n",
    "\n",
    "# Define file paths\n",
    "trj = 'project3/fel_trx/merged_fel.xtc'\n",
    "top = 'project3/fel_trx/fel900ns.tpr'\n",
    "# Initialize PUCHIK Interface\n",
    "m = Interface(trj, top)\n",
    "\n",
    "# Select the relevant atoms\n",
    "m.select_atoms('all')  # Consider all atoms in the system\n",
    "m.select_structure('resname TRITO and (name C19 C20 C21 C22 C23 C24)')  # TRITO head atoms\n",
    "\n",
    "# Calculate volume for the specified frames between 700 ns and 1000 ns\n",
    "start_frame = 700\n",
    "end_frame = 1000\n",
    "\n",
    "print(\"Calculating micelle volume between 700 ns and 1000 ns...\")\n",
    "volumes = m.calculate_volume(start=start_frame, end=end_frame)  # No skipping\n",
    "\n",
    "# Calculate average and standard deviation of the volumes\n",
    "average_volume = np.mean(volumes)\n",
    "std_volume = np.std(volumes)\n",
    "\n",
    "# Print the results\n",
    "print(\"\\n--- Micelle Volume Analysis (700 ns to 1000 ns) ---\")\n",
    "print(f\"Average Volume: {average_volume:.2f} Å³\")\n",
    "print(f\"Standard Deviation of Volume: {std_volume:.2f} Å³\")\n"
   ]
  },
  {
   "cell_type": "code",
   "execution_count": null,
   "id": "5fa415d0",
   "metadata": {},
   "outputs": [],
   "source": []
  }
 ],
 "metadata": {
  "kernelspec": {
   "display_name": "Python 3 (ipykernel)",
   "language": "python",
   "name": "python3"
  },
  "language_info": {
   "codemirror_mode": {
    "name": "ipython",
    "version": 3
   },
   "file_extension": ".py",
   "mimetype": "text/x-python",
   "name": "python",
   "nbconvert_exporter": "python",
   "pygments_lexer": "ipython3",
   "version": "3.10.15"
  }
 },
 "nbformat": 4,
 "nbformat_minor": 5
}
